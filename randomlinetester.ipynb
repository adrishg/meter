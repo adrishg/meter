{
 "metadata": {
  "name": "randomlinetester"
 },
 "nbformat": 3,
 "nbformat_minor": 0,
 "worksheets": [
  {
   "cells": [
    {
     "cell_type": "code",
     "collapsed": false,
     "input": [
      "from scanner import Scanner\n",
      "# remove -- , ^ etc\n",
      "txt = \"\"\"\n",
      "zindagii tere liye bistar-e sanjaab -o- samuur\n",
      "aur mere liye afrang kii daryuuzah-garii\n",
      "((aafiyat-koshii-e aabaa ke :tufail\n",
      "mai;n huu;n dar-maandah -o- be-chaarah adiib\n",
      ";xastah-e fikr-e ma((aash\n",
      "paarah-e naan-e javii;n ke liye mu;htaaj hai;n ham\n",
      "mai;n mire dost mire sai;nk;ro;n arbaab-e va:tan\n",
      "ya((nii afrang ke gulzaaro;n ke phuul\n",
      "tujhe ik shaa((ir-e darmaandah kii ummiid nah thii\n",
      "mujh se jis roz sitaarah tiraa vaa-bastah hu))aa\n",
      "tuu samajhtii thii kih ik roz miraa ;zahn-e rasaa\n",
      "aur mire ((ilm -o- hunar\n",
      "ba;hr -o- bar se tirii ziinat ko guhar laa))e;nge!\n",
      "mere raste me;n jo ;haa))il ho;n mire tiirah na.siib\n",
      "kyo;n du((aa))e;n tirii be-kaar nah jaa))e;n\n",
      "tere raato;n ke sujuud aur niyaaz\n",
      "us kaa baa((is miraa il;haad bhii hai!\n",
      "\"\"\"\n",
      "\n",
      "lines = txt.split(\"\\n\")\n",
      "s = Scanner()\n",
      "for line in lines:\n",
      "    result = s.scan(' '+line, known_only=True) # could think about possible foot combinations... what about enjambment?\n",
      "    print \"**** scanning \"+line+\" ****\"\n",
      "    s.print_scan(result)\n",
      "\n"
     ],
     "language": "python",
     "metadata": {},
     "outputs": [
      {
       "output_type": "stream",
       "stream": "stdout",
       "text": [
        "**** scanning  ****\n",
        "**** scanning zindagii tere liye bistar-e sanjaab -o- samuur ****\n",
        "result #0\n",
        "matches [-|=]-==/--==/--==/[--|=]=(-) <G5> as =-==/--==/--==/--=-\n",
        "=         -         =         =         -         -         =         =         -         -         =         =         -         -         =         -         \n",
        "b c s c   c s       c v       b c v     c v       b c s     c v       b c s c   c s       c z       b c s c   c v       c b o     b c s     c v       c         \n",
        " zin      da        gii        te       re         li       ye         bis      ta        r-e        san      jaa       b -o-      sa       muu       r         \n",
        "**** scanning aur mere liye afrang kii daryuuzah-garii ****"
       ]
      },
      {
       "output_type": "stream",
       "stream": "stdout",
       "text": [
        "\n",
        "result #0\n",
        "matches [-|=]-==/--==/--==/[--|=]=(-) <G5> as --==/--==/--==/--=\n",
        "-         -         =         =         -         -         =         =         -         -         =         =         -         -         =         \n",
        "b v<aur>  c         b c v     c v       b c s     c v       b s c     c s c     c         b c v     b c s c   c v       c s c<h+wb>b c s     c v       \n",
        " au       r          me       re         li       ye         af       ran       g          kii       dar      yuu       zah       -ga       rii       \n",
        "result #1\n",
        "matches [-|=]-==/--==/--==/[--|=]=(-) <G5> as =-==/--==/--==/--=\n",
        "=         -         =         =         -         -         =         =         -         -         =         =         -         -         =         \n",
        "b v<aur>  c         b c v     c v       b c s     c v       b s c     c s c     c         b c v     b c s c   c v       c s c<h+wb>b c s     c v       \n",
        " au       r          me       re         li       ye         af       ran       g          kii       dar      yuu       zah       -ga       rii       \n",
        "**** scanning ((aafiyat-koshii-e aabaa ke :tufail ****\n",
        "result #0\n",
        "matches [-|=]-==/--==/[--|=]=(-) <G11> as =-==/--==/--=-\n",
        "=         -         =         =         -         -         =         =         -         -         =         -         \n",
        "b c v     c s       c s c     b c v     c         v<ii+z> z b v       c v       b c v     b c s     c v       c         \n",
        " ((aa     fi        yat       -ko       sh        ii-e       aa       baa        ke        :tu      fai       l         \n",
        "result #1\n",
        "matches [-|=]-==/--==/[--|=]=(-) <G11> as =-==/--==/--=-\n",
        "=         -         =         =         -         -         =         =         -         -         =         -         \n",
        "b c v     c s       c s c     b c v     c v<ii+z> z         b v       c v       b c v     b c s     c v       c         \n",
        " ((aa     fi        yat       -ko       shii      -e         aa       baa        ke        :tu      fai       l         \n",
        "result #2\n",
        "matches =-==/=-==/=-=(-) <G14> as =-==/=-==/=-=-\n",
        "=         -         =         =         =         -         =         =         =         -         =         -         \n",
        "b c v     c s       c s c     b c v     c v<ii+z> z         b v       c v       b c v     b c s     c v       c         \n",
        " ((aa     fi        yat       -ko       shii      -e         aa       baa        ke        :tu      fai       l         \n",
        "**** scanning mai;n huu;n dar-maandah -o- be-chaarah adiib ****"
       ]
      },
      {
       "output_type": "stream",
       "stream": "stdout",
       "text": [
        "\n",
        "**** scanning ;xastah-e fikr-e ma((aash ****\n",
        "**** scanning paarah-e naan-e javii;n ke liye mu;htaaj hai;n ham ****"
       ]
      },
      {
       "output_type": "stream",
       "stream": "stdout",
       "text": [
        "\n",
        "result #0\n",
        "matches [-|=]-==/--==/--==/[--|=]=(-) <G5> as =-==/--==/--==/--=\n",
        "=         -         =         =         -         -         =         =         -         -         =         =         -         -         =         \n",
        "b c v     c s       c z       b c v     c z       b c s     c v n     b c v     b c s     c v       b c s c   c v       c         b c v n   b c s c   \n",
        " paa      ra        h-e        naa      n-e        ja       vii;n      ke        li       ye         mu;h     taa       j          hai;n     ham      \n",
        "**** scanning mai;n mire dost mire sai;nk;ro;n arbaab-e va:tan ****\n",
        "result #0\n",
        "matches [-|=]-==/--==/--==/[--|=]=(-) <G5> as --==/--==/--==/--=\n",
        "-         -         =         =         -         -         =         =         -         -         =         =         -         -         =         \n",
        "b c v n   b c s     c v       b c v     c c       b c s     c v       b c v n   c         c v n     b s c     c v       c z       b c s     c s c     \n",
        " mai;n     mi       re         do       st         mi       re         sai;n    k         ;ro;n      ar       baa       b-e        va       :tan      \n",
        "result #1\n",
        "matches [-|=]-==/--==/--==/[--|=]=(-) <G5> as =-==/--==/--==/--=\n",
        "=         -         =         =         -         -         =         =         -         -         =         =         -         -         =         \n",
        "b c v n   b c s     c v       b c v     c c       b c s     c v       b c v n   c         c v n     b s c     c v       c z       b c s     c s c     \n",
        " mai;n     mi       re         do       st         mi       re         sai;n    k         ;ro;n      ar       baa       b-e        va       :tan      \n",
        "**** scanning ya((nii afrang ke gulzaaro;n ke phuul ****"
       ]
      },
      {
       "output_type": "stream",
       "stream": "stdout",
       "text": [
        "\n",
        "result #0\n",
        "matches [-|=]-==/--==/[--|=]=(-) <G11> as =-==/--==/--=-\n",
        "=         -         =         =         -         -         =         =         -         -         =         -         \n",
        "b c s c   c v       b s c     c s c     c         b c v     b c s c   c v       c v n     b c v     b c v     c         \n",
        " ya((     nii        af       ran       g          ke        gul      zaa       ro;n       ke        phuu     l         \n",
        "**** scanning tujhe ik shaa((ir-e darmaandah kii ummiid nah thii ****\n",
        "**** scanning mujh se jis roz sitaarah tiraa vaa-bastah hu))aa ****"
       ]
      },
      {
       "output_type": "stream",
       "stream": "stdout",
       "text": [
        "\n",
        "result #0\n",
        "matches [-|=]-==/--==/--==/[--|=]=(-) <G5> as =-==/--==/--==/--=\n",
        "=         -         =         =         -         -         =         =         -         -         =         =         -         -         =         \n",
        "b c s c   b c v     b c s c   b c v     c         b c s     c v       c s c<h+wb>b c s     c v       b c v     b c s c   c s c<h+wb>b c s     c v       \n",
        " mujh      se        jis       ro       z          si       taa       rah        ti       raa        vaa      -bas      tah        hu       ))aa      \n",
        "**** scanning tuu samajhtii thii kih ik roz miraa ;zahn-e rasaa ****"
       ]
      },
      {
       "output_type": "stream",
       "stream": "stdout",
       "text": [
        "\n",
        "result #0\n",
        "matches [-|=]-==/--==/--==/[--|=]=(-) <G5> as --==/--==/--==/--=\n",
        "-         -         =         =         -         -         =         =         -         -         =         =         -         -         =         \n",
        "b c v     b c s     c s c     c v       b c v     b c s c<h+wb>b s c     b c v     c         b c s     c v       b c s c   c z       b c s     c v       \n",
        " tuu       sa       majh      tii        thii      kih       ik        ro       z          mi       raa        ;zah     n-e        ra       saa       \n",
        "result #1\n",
        "matches [-|=]-==/--==/--==/[--|=]=(-) <G5> as =-==/--==/--==/--=\n",
        "=         -         =         =         -         -         =         =         -         -         =         =         -         -         =         \n",
        "b c v     b c s     c s c     c v       b c v     b c s c<h+wb>b s c     b c v     c         b c s     c v       b c s c   c z       b c s     c v       \n",
        " tuu       sa       majh      tii        thii      kih       ik        ro       z          mi       raa        ;zah     n-e        ra       saa       \n",
        "**** scanning aur mire ((ilm -o- hunar ****\n",
        "**** scanning ba;hr -o- bar se tirii ziinat ko guhar laa))e;nge! ****"
       ]
      },
      {
       "output_type": "stream",
       "stream": "stdout",
       "text": [
        "\n",
        "result #0\n",
        "matches [-|=]-==/--==/--==/[--|=]=(-) <G5> as =-==/--==/--==/==\n",
        "=         -         =         =         -         -         =         =         -         -         =         =         =         =         \n",
        "b c s c   c b o     b c s c   b c v     b c s     c v       b c v     c s c     b c v     b c s     c s c     b c v     c v_e_fut nc v       \n",
        " ba;h     r -o-      bar       se        ti       rii        zii      nat        ko        gu       har        laa      ))e;n     ge        \n",
        "**** scanning mere raste me;n jo ;haa))il ho;n mire tiirah na.siib ****\n",
        "result #0\n",
        "matches [-|=]-==/--==/--==/[--|=]=(-) <G5> as =-==/--==/--==/--=-\n",
        "=         -         =         =         -         -         =         =         -         -         =         =         -         -         =         -         \n",
        "b c v     c v       b c s c   c v       b c v n   b c v     b c v     c s c     b c v n   b c s     c v       b c v     c s c<h+wb>b c s     c v       c         \n",
        " me       re         ras      te         me;n      jo        ;haa     ))il       ho;n      mi       re         tii      rah        na       .sii      b         \n",
        "result #1\n",
        "matches =-==/=-==/=-==/=-=(-) <G1> as =-==/=-==/=-==/=-=-\n",
        "=         -         =         =         =         -         =         =         =         -         =         =         =         -         =         -         \n",
        "b c v     c v       b c s c   c v       b c v n   b c v     b c v     c s c     b c v n   b c s     c v       b c v     c s c<h+wb>b c s     c v       c         \n",
        " me       re         ras      te         me;n      jo        ;haa     ))il       ho;n      mi       re         tii      rah        na       .sii      b         \n",
        "**** scanning kyo;n du((aa))e;n tirii be-kaar nah jaa))e;n ****"
       ]
      },
      {
       "output_type": "stream",
       "stream": "stdout",
       "text": [
        "\n",
        "result #0\n",
        "matches [-|=]-==/--==/[--|=]=(-) <G11> as =-==/--==/--=-\n",
        "=         -         =         =         -         -         =         =         -         -         =         -         \n",
        "b c c v n b c s     c v       c v n     b c s     c v       b c v     b c v     c         b c s c<h+wb>b c v     c v n     \n",
        " kyo;n     du       ((aa      ))e;n      ti       rii        be       -kaa      r          nah       jaa      ))e;n     \n",
        "result #1\n",
        "matches [=|-]-==/-=-=/[--|=]=(-) <G8> as =-==/-=-=/--=-\n",
        "=         -         =         =         -         =         -         =         -         -         =         -         \n",
        "b c c v n b c s     c v       c v n     b c s     c v       b c v     b c v     c         b c s c<h+wb>b c v     c v n     \n",
        " kyo;n     du       ((aa      ))e;n      ti       rii        be       -kaa      r          nah       jaa      ))e;n     \n",
        "**** scanning tere raato;n ke sujuud aur niyaaz ****\n",
        "result #0\n",
        "matches [-|=]-==/--==/[--|=]=(-) <G11> as =-==/--==/--=-\n",
        "=         -         =         =         -         -         =         =         -         -         =         -         \n",
        "b c v     c v       b c v     c v n     b c v     b c s     c v       c b v<aur>c         b c s     c v       c         \n",
        " te       re         raa      to;n       ke        su       juu       d au      r          ni       yaa       z         \n",
        "**** scanning us kaa baa((is miraa il;haad bhii hai! ****\n",
        "result #0\n",
        "matches [-|=]-==/--==/[--|=]=(-) <G11> as =-==/--==/--=\n",
        "=         -         =         =         -         -         =         =         -         -         =         \n",
        "b s c     b c v     b c v     c s c     b c s     c v       b s c     c v       c         b c v     b c v     \n",
        " us        kaa       baa      ((is       mi       raa        il       ;haa      d          bhii      hai      \n",
        "**** scanning  ****\n"
       ]
      }
     ],
     "prompt_number": 89
    },
    {
     "cell_type": "code",
     "collapsed": false,
     "input": [],
     "language": "python",
     "metadata": {},
     "outputs": [
      {
       "ename": "SyntaxError",
       "evalue": "invalid syntax (<ipython-input-24-d72db666456b>, line 1)",
       "output_type": "pyerr",
       "traceback": [
        "\u001b[0;36m  File \u001b[0;32m\"<ipython-input-24-d72db666456b>\"\u001b[0;36m, line \u001b[0;32m1\u001b[0m\n\u001b[0;31m    zindagii us ke li))e zahr-bharaa jaam nahii;n!\u001b[0m\n\u001b[0m              ^\u001b[0m\n\u001b[0;31mSyntaxError\u001b[0m\u001b[0;31m:\u001b[0m invalid syntax\n"
       ]
      }
     ],
     "prompt_number": 24
    },
    {
     "cell_type": "code",
     "collapsed": false,
     "input": [],
     "language": "python",
     "metadata": {},
     "outputs": []
    }
   ],
   "metadata": {}
  }
 ]
}