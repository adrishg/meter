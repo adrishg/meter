{
 "metadata": {
  "name": "Introduction"
 },
 "nbformat": 3,
 "nbformat_minor": 0,
 "worksheets": [
  {
   "cells": [
    {
     "cell_type": "markdown",
     "metadata": {},
     "source": [
      "This document describes the computation of Urdu poetic meter, as originally implemented by A. Sean Pue."
     ]
    },
    {
     "cell_type": "markdown",
     "metadata": {},
     "source": [
      "Urdu is written from right-to-left in a script called nastaleeq, e.g. \u0646\u0633\u062a\u0639\u0644\u06cc\u0642. It's poetic meter follows similar systems in Arabic and Persian. Urdu is an Indo-Aryan language, and is essentially the same language as modern Hindi \u0939\u093f\u0928\u094d\u0926\u0940, though written in a different script and relying more on Arabic and Persian vocabulary."
     ]
    },
    {
     "cell_type": "markdown",
     "metadata": {},
     "source": [
      "The text used in this project has actually been transliterated (rendered in a specialized Roman alphabet) in a way that captures both its orthography and its pronunciation, e.g. \u0646\u0633\u062a\u0639\u0644\u06cc\u0642 -> nasta((liiq. \n",
      "\n",
      "While Urdu is fairly phonetic, to read it requires a certain amount of knowledge about its pronunciation in addition to its written form, as vowel markings are usually omitted. For metrical analysis, the orthography remains important, and there a few cases where letters scan even though they are not usually pronounced, as in \u0634\u0631\u0648\u0639.\n",
      "\n",
      "Working on a corpus of raw text, this abstracted transliterated form could likely be generated through a lexicon lookup along with a relatively small amount of natural language processing, accounting for small shifts in pronunciation that are not reflected orthographically, e.g. word-final \u06c1 in a noun followed by a postposition as in \u062e\u0627\u0646\u06c1 \u0645\u06cc\u06ba."
     ]
    }
   ],
   "metadata": {}
  }
 ]
}