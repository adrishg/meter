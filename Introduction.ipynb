{
 "metadata": {
  "name": "Introduction"
 },
 "nbformat": 3,
 "nbformat_minor": 0,
 "worksheets": [
  {
   "cells": [
    {
     "cell_type": "markdown",
     "metadata": {},
     "source": [
      "This document describes the computation of Urdu poetic meter, as originally implemented by A. Sean Pue."
     ]
    },
    {
     "cell_type": "markdown",
     "metadata": {},
     "source": [
      "Urdu is written from right-to-left in a script called nastaleeq, e.g. \u0646\u0633\u062a\u0639\u0644\u06cc\u0642. It's poetic meter follows similar systems in Arabic and Persian. Urdu is an Indo-Aryan language, and is essentially the same language as modern Hindi \u0939\u093f\u0928\u094d\u0926\u0940, though written in a different script and relying more on Arabic and Persian vocabulary."
     ]
    },
    {
     "cell_type": "markdown",
     "metadata": {},
     "source": [
      "<h3>Transliterated Text</h3>\n",
      "The text used in this project has actually been transliterated (rendered in a specialized Roman alphabet) in a way that captures both its orthography and its pronunciation, e.g. \u0646\u0633\u062a\u0639\u0644\u06cc\u0642 -> nasta((liiq. \n",
      "\n",
      "While Urdu is fairly phonetic, to read it requires a certain amount of knowledge about its pronunciation in addition to its written form, as vowel markings are usually omitted. For metrical analysis, the orthography remains important, and there a few cases where letters scan even though they are not usually pronounced, as in \u0634\u0631\u0648\u0639. \n",
      "\n",
      "Working on a corpus of raw Urdu text, this abstracted transliterated form could likely be generated through a lexicon lookup along with a relatively small amount of natural language processing in order to account for small shifts in pronunciation that are not reflected orthographically, e.g. word-final \u06c1 in a noun followed by a postposition as in \u062e\u0627\u0646\u06c1 \u0645\u06cc\u06ba."
     ]
    },
    {
     "cell_type": "markdown",
     "metadata": {},
     "source": [
      "<h3>Urdu Meter: A Quick Overview</h3>\n",
      "\n",
      "The meter of Urdu is quantitative and based on syllable length rather than stress. Certain combinations of consonants and vowels form what can be thought as \"long\" (=) or \"short\" (-) syllables, though quite a number of them remain flexible. These are then arranged into particular patterns, described as different types of feet. The focus of this project is a poetic form called the <i>\u0121hazal</i>, which consists of a number of two-line verses all in the same meter and sharing some rhyming elements.\n",
      "\n",
      "The following two-line verse would scan as:\n",
      "\n",
      "    =  -   =  = =   -   =   =   =  -    = =   =  - =\n",
      "    naqsh faryaadii hai kis kii sho;xii-e ta;hriir kaa\n",
      "    =  -  =   =   =  - =   =   =  - =   =   =  - =\n",
      "    kaa;gazii hai pairahan har paikar-e ta.sviir kaa\n",
      "\n",
      "The meter (=-==/=-==/=-==/=-=) consists of three feet in the form =-== followed by one that is =-=.\n",
      "\n",
      "There are different combinations of consonants and vowels that yield the long and short syllables. For example, a consonant followed by a short vowel (a,i,u) followed by consonant can be long (e.g., naq, far, kis, ta;h, han, ta.s). A word-final consonant can be a short (e.g., -sh, -r) as can a consonant followed by a short vowel (e.g., ;ga, ra, ka). A consonant followed by a long vowel at the end of a word can be either long (e.g., dii, kaa, zii), or it can short (hai). There are also a number of exceptional words and combinations."
     ]
    },
    {
     "cell_type": "markdown",
     "metadata": {},
     "source": [
      "<h3>Computing Urdu Meter</h3>\n",
      "\n",
      "To computer Urdu meter requires a number of steps.\n",
      "\n",
      "1. <b>The input string is tokenized.</b>\n",
      "\n",
      "    The input is broken up into its component parts. Each of the tokens are marked as belonging to a particular class (e.g., 'consonant,' vowel').\n",
      "\n",
      "    <i>Example</i>: \"naqsh\" therefore would be broken up into its components parts: 'n', 'a', 'q', and 'sh'. \n",
      "\n",
      "2. <b>The tokens, in their particular contexts, are parsed to render what category they are.</b>\n",
      "\n",
      "    The primary categories are \"c\" (consonant), \"v\" (long vowel), \"s\" (short vowel), \"b\" (break, e.g. space). A few depend on what tokens proceed or follow them (hence the use of classes above). There are a few additional classes, such as \"al\" for the Arabic al-,il-,ul-, and \"z\" for the Persian enclitic izafat (-e). \n",
      "\n",
      "    <i>Example</i>: The production of \"naqsh faryaadii hai kis kii sho;xii-e ta;hriir kaa\" would be:  csccbclclbclbcscbclbclclzbcscclcbcl (The original tokens are also retained).\n",
      "\n",
      "3. <b>These category strings are parsed and then categorized as long or short, generating an array of metrical possibilities.</b>\n",
      "\n",
      "    This step requires loading another set of rules that define variable patterns for long and short syllables. Then, all possible matches are generated and added to the results, and a meter string is constructed. Unpermitted combinations are (optionally) dropped. All combinations for a particular line can be generated.\n",
      "\n",
      "    <i>Example</i>: The phrase \"naqsh faryaadii,\" categorized as \"csccbcscclcl\" will produce the following scansions \"=-===\" and \"=-==-\". The descriptive matches will be \"l_csc\" [long syllable, consonant-short vowel-consonant],\"s_c\", \"l_csc\", \"l_cl\", and then \"l_clb\" or \"s_clb.\" If the phrase is \"naqsh faryaadii hai\" (csccbcscclclbcl) the possibilities will be \"=-====\",\"=-===-\", \"=-==-=\", and \"=-==--\".\n",
      "\n",
      "4. <b>Generated metrical possibilities are compared to acceptable ones (based on genre), and the final match is determined.</b>\n",
      "\n",
      "        This works for poetry in established genres, such as the ghazal. Detecting meter in more complex "
     ]
    },
    {
     "cell_type": "markdown",
     "metadata": {},
     "source": [
      "Technical Details\n",
      "\n",
      "This project contains two modules (parser.py and scanner.py). It reuses a custom lexer/parser (parser.py) in stages I,II, and III above. \n",
      "\n",
      "parser.py reads a YAML data file (urdumeter.yaml) that can then 1. tokenize and 2. parse into categories an input string."
     ]
    },
    {
     "cell_type": "code",
     "collapsed": false,
     "input": [
      "from parser import Parser"
     ],
     "language": "python",
     "metadata": {},
     "outputs": [],
     "prompt_number": 4
    },
    {
     "cell_type": "code",
     "collapsed": false,
     "input": [],
     "language": "python",
     "metadata": {},
     "outputs": []
    }
   ],
   "metadata": {}
  }
 ]
}