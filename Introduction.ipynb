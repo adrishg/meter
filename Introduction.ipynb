{
 "metadata": {
  "name": "Introduction"
 },
 "nbformat": 3,
 "nbformat_minor": 0,
 "worksheets": [
  {
   "cells": [
    {
     "cell_type": "markdown",
     "metadata": {},
     "source": [
      "This document describes the computation of Urdu poetic meter, as originally implemented by A. Sean Pue."
     ]
    },
    {
     "cell_type": "markdown",
     "metadata": {},
     "source": [
      "Urdu is written from right-to-left in a script called nastaleeq, e.g. \u0646\u0633\u062a\u0639\u0644\u06cc\u0642. It's poetic meter follows similar systems in Arabic and Persian. Urdu is an Indo-Aryan language, and is essentially the same language as modern Hindi \u0939\u093f\u0928\u094d\u0926\u0940, though written in a different script and relying more on Arabic and Persian vocabulary."
     ]
    },
    {
     "cell_type": "markdown",
     "metadata": {},
     "source": [
      "<h3>Transliterated Text</h3>\n",
      "The text used in this project has actually been transliterated (rendered in a specialized Roman alphabet) in a way that captures both its orthography and its pronunciation, e.g. \u0646\u0633\u062a\u0639\u0644\u06cc\u0642 -> nasta((liiq. \n",
      "\n",
      "While Urdu is fairly phonetic, to read it requires a certain amount of knowledge about its pronunciation in addition to its written form, as vowel markings are usually omitted. For metrical analysis, the orthography remains important, and there a few cases where letters scan even though they are not usually pronounced, as in \u0634\u0631\u0648\u0639.\n",
      "\n",
      "Working on a corpus of raw text, this abstracted transliterated form could likely be generated through a lexicon lookup along with a relatively small amount of natural language processing, accounting for small shifts in pronunciation that are not reflected orthographically, e.g. word-final \u06c1 in a noun followed by a postposition as in \u062e\u0627\u0646\u06c1 \u0645\u06cc\u06ba."
     ]
    },
    {
     "cell_type": "markdown",
     "metadata": {},
     "source": [
      "Urdu Meter: A Quick Overview\n",
      "\n",
      "The meter of Urdu is quantitative and based on syllable length rather than stress. Certain combinations of consonants and vowels form what can be thought as \"long\" (=) or \"short\" (-) syllables, though quite a number of them remain flexible. These are then arranged into particular patterns, described as different types of feet. The focus of this project is a poetic form called the <i>\u0121hazal</i>, which consists of a number of two-line verses all in the same meter and sharing some rhyming elements.\n",
      "\n",
      "The following two-line verse would scan as:\n",
      "\n",
      "    =  -   =  = =   -   =   =   =  -    = =   =  - =\n",
      "    naqsh faryaadii hai kis kii sho;xii-e ta;hriir kaa\n",
      "    =  -  =   =   =  - =   =   =  - =   =   =  - =\n",
      "    kaa;gazii hai pairahan har paikar-e ta.sviir kaa\n",
      "\n",
      "The meter (=-==/=-==/=-==/=-=) consists of three feet in the form =-== followed by one that is =-=.\n",
      "\n",
      "There are different combinations of consonants and vowels that yield the long and short syllables. For example, a consonant followed by a short vowel (a,i,u) followed by consonant can be long (e.g., naq, far, kis, ta;h, han, ta.s). A word-final consonant can be a short (e.g., -sh, -r) as can a consonant followed by a short vowel (e.g., ;ga, ra, ka). A consonant followed by a long vowel at the end of a word can be either long (e.g., dii, kaa, zii), or it can short (hai). There are also a number of exceptional words and combinations."
     ]
    },
    {
     "cell_type": "markdown",
     "metadata": {},
     "source": [
      "Parsing the Urdu Meter\n",
      "\n",
      "To parse Urdu poetry requires a number of steps.\n",
      "\n",
      "* The input string are tokenized.\n",
      "\n",
      "\"naqsh\" therefore would be broken up into its components parts: 'n', 'a', 'q', and 'sh'.\n",
      "\n",
      "* The tokens are assigned classes.\n",
      "\n",
      "For the next step, it is at times necessary to look for tokens in particular contexts, so these are classes (e.g., 'consonant', 'vowel') are necessary.\n",
      "\n",
      "* The tokens, in their particular contexts, are parsed to render what category they are.\n",
      "\n",
      "The primary categories are \"c\" (consonant), \"v\" (long vowel), \"s\" (short vowel), \"b\" (break, e.g. space). There are a few additional ones, such as \"al\" for the Arabic al-,il-,ul-, and \"z\" for the Persian enclitic izafat (-e). So the production for the verse above would be: csccbclclbclbcscbclbclclzbcscclcbcl (The original tokens are also retained, for later).\n",
      "\n",
      "* These categorized strings are recursively parsed and then categorized as long or short.\n",
      "\n",
      "This step requires loading another set of rules that define variable patterns for long and short syllables.\n",
      "\n"
     ]
    }
   ],
   "metadata": {}
  }
 ]
}