{
 "metadata": {
  "name": "nodes"
 },
 "nbformat": 3,
 "nbformat_minor": 0,
 "worksheets": [
  {
   "cells": [
    {
     "cell_type": "code",
     "collapsed": false,
     "input": [
      "def load_meters_file(filename):\n",
      "    meters = {}\n",
      "    for line in open(filename):\n",
      "        meter, name = line.split()\n",
      "        meter = meter.replace('/', '')\n",
      "        meter = meter.rstrip(':')\n",
      "        meters[name] = meter\n",
      "        \n",
      "    return meters"
     ],
     "language": "python",
     "metadata": {},
     "outputs": [],
     "prompt_number": 29
    },
    {
     "cell_type": "code",
     "collapsed": false,
     "input": [
      "class Node(object):\n",
      "    def __init__(self, ch):\n",
      "        self.ch = ch\n",
      "        self.next = {}\n",
      "        \n",
      "    def add_node(self, next_node):\n",
      "        ch = next_node.ch\n",
      "        assert next_node.ch not in self.next\n",
      "        self.next[ch] = next_node\n"
     ],
     "language": "python",
     "metadata": {},
     "outputs": [],
     "prompt_number": 30
    },
    {
     "cell_type": "code",
     "collapsed": false,
     "input": [
      "meters = load_meters_file('settings/gh-meters.yaml')\n",
      "\n",
      "start = {}\n",
      "\n",
      "# construct tree\n",
      "for name in meters:\n",
      "    meter = meters[name]\n",
      "    first_ch = meter[0]\n",
      "    \n",
      "    node = start.get(first_ch)\n",
      "    if not node:\n",
      "        node = Node(first_ch)\n",
      "        start[first_ch] = node\n",
      "    \n",
      "    last_node = node\n",
      "    for i in range(1, len(meter)):\n",
      "        ch = meter[i]\n",
      "        if ch in last_node.next:\n",
      "            #print 'found already', ch\n",
      "            last_node = last_node.next[ch]\n",
      "        else:\n",
      "            #print 'adding', ch\n",
      "            node = Node(ch)\n",
      "            last_node.add_node(node)\n",
      "            last_node = node\n",
      "        "
     ],
     "language": "python",
     "metadata": {},
     "outputs": [],
     "prompt_number": 31
    },
    {
     "cell_type": "code",
     "collapsed": false,
     "input": [
      "print load_meters_file('settings/gh-meters.yaml')"
     ],
     "language": "python",
     "metadata": {},
     "outputs": [
      {
       "output_type": "stream",
       "stream": "stdout",
       "text": [
        "{'G7': '-===-===-==-', 'G6': '--=-=-==--=-=-==-', 'G5': '=-==--==--====-', 'G4': '=-=-====-=-===-', 'G3': '==-=-=--==-=-=-', 'G2': '-===-===-===-===-', 'G1': '=-===-===-===-=-', 'G9': '-=-=--==-=-===-', 'G8': '=-==-=-===-', 'G19': '====-=-==-', 'G18': '==--=====--===-', 'G17': '=--==-=-=--==-', 'G16': '-=-=--==-=-=--==-', 'G15': '=--=-=-==--=-=-=-', 'G14': '=-===-===-=-', 'G13': '==--==--==--==-', 'G12': '-==-==-==-==-', 'G11': '=-==--====-', 'G10': '==-=-====-=-==-'}\n"
       ]
      }
     ],
     "prompt_number": 32
    },
    {
     "cell_type": "code",
     "collapsed": false,
     "input": [
      "test_meter = meters['G7']\n",
      "ch = test_meter[0]\n",
      "\n",
      "node = start[ch]\n",
      "\n",
      "for ch in test_meter[1:]:\n",
      "    next_node = node.next.get(ch)\n",
      "    node = next_node"
     ],
     "language": "python",
     "metadata": {},
     "outputs": [],
     "prompt_number": 33
    },
    {
     "cell_type": "code",
     "collapsed": false,
     "input": [
      "print node"
     ],
     "language": "python",
     "metadata": {},
     "outputs": [
      {
       "output_type": "stream",
       "stream": "stdout",
       "text": [
        "<__main__.Node object at 0x10aeb7290>\n"
       ]
      }
     ],
     "prompt_number": 34
    },
    {
     "cell_type": "code",
     "collapsed": false,
     "input": [
      "print node.ch"
     ],
     "language": "python",
     "metadata": {},
     "outputs": [
      {
       "output_type": "stream",
       "stream": "stdout",
       "text": [
        "-\n"
       ]
      }
     ],
     "prompt_number": 35
    },
    {
     "cell_type": "code",
     "collapsed": false,
     "input": [
      "print node.next"
     ],
     "language": "python",
     "metadata": {},
     "outputs": [
      {
       "output_type": "stream",
       "stream": "stdout",
       "text": [
        "{}\n"
       ]
      }
     ],
     "prompt_number": 36
    },
    {
     "cell_type": "code",
     "collapsed": false,
     "input": [
      "for name in meters:\n",
      "    test_meter = meters[name]\n",
      "    ch = test_meter[0]\n",
      "\n",
      "    node = start[ch]\n",
      "\n",
      "    for ch in test_meter[1:]:\n",
      "        next_node = node.next.get(ch)\n",
      "        node = next_node"
     ],
     "language": "python",
     "metadata": {},
     "outputs": [],
     "prompt_number": 37
    },
    {
     "cell_type": "code",
     "collapsed": false,
     "input": [],
     "language": "python",
     "metadata": {},
     "outputs": []
    }
   ],
   "metadata": {}
  }
 ]
}