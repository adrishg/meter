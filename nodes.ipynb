{
 "metadata": {
  "name": "nodes"
 },
 "nbformat": 3,
 "nbformat_minor": 0,
 "worksheets": [
  {
   "cells": [
    {
     "cell_type": "code",
     "collapsed": false,
     "input": [
      "def load_meters_file(filename):\n",
      "    meters = {}\n",
      "    for line in open(filename):\n",
      "        meter, name = line.split()\n",
      "        meter = meter.replace('/', '')\n",
      "        meter = meter.rstrip(':')\n",
      "        meters[name] = meter\n",
      "        \n",
      "    return meters"
     ],
     "language": "python",
     "metadata": {},
     "outputs": [],
     "prompt_number": 29
    },
    {
     "cell_type": "code",
     "collapsed": false,
     "input": [
      "class Node(object):\n",
      "    def __init__(self, ch):\n",
      "        self.ch = ch\n",
      "        self.next = {}\n",
      "        \n",
      "    def add_node(self, next_node):\n",
      "        ch = next_node.ch\n",
      "        assert next_node.ch not in self.next\n",
      "        self.next[ch] = next_node\n"
     ],
     "language": "python",
     "metadata": {},
     "outputs": [],
     "prompt_number": 30
    },
    {
     "cell_type": "code",
     "collapsed": false,
     "input": [
      "meters = load_meters_file('settings/gh-meters.yaml')\n",
      "\n",
      "start = {}\n",
      "\n",
      "# construct tree\n",
      "for name in meters:\n",
      "    meter = meters[name]\n",
      "    first_ch = meter[0]\n",
      "    \n",
      "    node = start.get(first_ch)\n",
      "    if not node:\n",
      "        node = Node(first_ch)\n",
      "        start[first_ch] = node\n",
      "    \n",
      "    last_node = node\n",
      "    for i in range(1, len(meter)):\n",
      "        ch = meter[i]\n",
      "        if ch in last_node.next:\n",
      "            #print 'found already', ch\n",
      "            last_node = last_node.next[ch]\n",
      "        else:\n",
      "            #print 'adding', ch\n",
      "            node = Node(ch)\n",
      "            last_node.add_node(node)\n",
      "            last_node = node\n",
      "        "
     ],
     "language": "python",
     "metadata": {},
     "outputs": [],
     "prompt_number": 31
    },
    {
     "cell_type": "code",
     "collapsed": false,
     "input": [
      "print load_meters_file('settings/gh-meters.yaml')"
     ],
     "language": "python",
     "metadata": {},
     "outputs": [
      {
       "output_type": "stream",
       "stream": "stdout",
       "text": [
        "{'G7': '-===-===-==-', 'G6': '--=-=-==--=-=-==-', 'G5': '=-==--==--====-', 'G4': '=-=-====-=-===-', 'G3': '==-=-=--==-=-=-', 'G2': '-===-===-===-===-', 'G1': '=-===-===-===-=-', 'G9': '-=-=--==-=-===-', 'G8': '=-==-=-===-', 'G19': '====-=-==-', 'G18': '==--=====--===-', 'G17': '=--==-=-=--==-', 'G16': '-=-=--==-=-=--==-', 'G15': '=--=-=-==--=-=-=-', 'G14': '=-===-===-=-', 'G13': '==--==--==--==-', 'G12': '-==-==-==-==-', 'G11': '=-==--====-', 'G10': '==-=-====-=-==-'}\n"
       ]
      }
     ],
     "prompt_number": 32
    },
    {
     "cell_type": "code",
     "collapsed": false,
     "input": [
      "test_meter = meters['G7']\n",
      "ch = test_meter[0]\n",
      "\n",
      "node = start[ch]\n",
      "\n",
      "for ch in test_meter[1:]:\n",
      "    print 'at', ch, ' possible paths:', node.next.keys()\n",
      "    next_node = node.next.get(ch)\n",
      "    node = next_node"
     ],
     "language": "python",
     "metadata": {},
     "outputs": [
      {
       "output_type": "stream",
       "stream": "stdout",
       "text": [
        "at =  possible paths: ['-', '=']\n",
        "at =  possible paths: ['-', '=']\n",
        "at =  possible paths: ['-', '=']\n",
        "at -  possible paths: ['-']\n",
        "at =  possible paths: ['=']\n",
        "at =  possible paths: ['=']\n",
        "at =  possible paths: ['=']\n",
        "at -  possible paths: ['-']\n",
        "at =  possible paths: ['=']\n",
        "at =  possible paths: ['=']\n",
        "at -  possible paths: ['=', '-']\n"
       ]
      }
     ],
     "prompt_number": 45
    },
    {
     "cell_type": "code",
     "collapsed": false,
     "input": [
      "print node"
     ],
     "language": "python",
     "metadata": {},
     "outputs": [
      {
       "output_type": "stream",
       "stream": "stdout",
       "text": [
        "<__main__.Node object at 0x10aeb7290>\n"
       ]
      }
     ],
     "prompt_number": 34
    },
    {
     "cell_type": "code",
     "collapsed": false,
     "input": [
      "print node.ch"
     ],
     "language": "python",
     "metadata": {},
     "outputs": [
      {
       "output_type": "stream",
       "stream": "stdout",
       "text": [
        "-\n"
       ]
      }
     ],
     "prompt_number": 35
    },
    {
     "cell_type": "code",
     "collapsed": false,
     "input": [
      "print node.next"
     ],
     "language": "python",
     "metadata": {},
     "outputs": [
      {
       "output_type": "stream",
       "stream": "stdout",
       "text": [
        "{}\n"
       ]
      }
     ],
     "prompt_number": 36
    },
    {
     "cell_type": "code",
     "collapsed": false,
     "input": [
      "# check -- are all meters in there?\n",
      "for name in meters:\n",
      "    test_meter = meters[name]\n",
      "    ch = test_meter[0]\n",
      "\n",
      "    node = start[ch]\n",
      "\n",
      "    for ch in test_meter[1:]:\n",
      "        next_node = node.next.get(ch)\n",
      "        node = next_node\n",
      "        \n",
      "    assert not node.next"
     ],
     "language": "python",
     "metadata": {},
     "outputs": [],
     "prompt_number": 38
    },
    {
     "cell_type": "code",
     "collapsed": false,
     "input": [
      "# can we generate all meters depth first?\n",
      "x = []\n",
      "\n",
      "def depth_traverse(n, s):\n",
      "    s += n.ch\n",
      "    if not n.next:\n",
      "        x.append(s)\n",
      "    for k in n.next:\n",
      "        depth_traverse(n.next[k], s)\n",
      "\n",
      "for ch in start:\n",
      "    current = ''\n",
      "    node = start[ch]\n",
      "    \n",
      "    depth_traverse(node, current)"
     ],
     "language": "python",
     "metadata": {},
     "outputs": [],
     "prompt_number": 49
    },
    {
     "cell_type": "code",
     "collapsed": false,
     "input": [
      "x"
     ],
     "language": "python",
     "metadata": {},
     "outputs": [
      {
       "output_type": "pyout",
       "prompt_number": 50,
       "text": [
        "['====-=-==-',\n",
        " '==--==--==--==-',\n",
        " '==--=====--===-',\n",
        " '==-=-====-=-==-',\n",
        " '==-=-=--==-=-=-',\n",
        " '=--=-=-==--=-=-=-',\n",
        " '=--==-=-=--==-',\n",
        " '=-=-====-=-===-',\n",
        " '=-===-===-=-',\n",
        " '=-===-===-===-=-',\n",
        " '=-==-=-===-',\n",
        " '=-==--====-',\n",
        " '=-==--==--====-',\n",
        " '--=-=-==--=-=-==-',\n",
        " '-=-=--==-=-=--==-',\n",
        " '-=-=--==-=-===-',\n",
        " '-==-==-==-==-',\n",
        " '-===-===-===-===-',\n",
        " '-===-===-==-']"
       ]
      }
     ],
     "prompt_number": 50
    },
    {
     "cell_type": "code",
     "collapsed": false,
     "input": [
      "print len(x)"
     ],
     "language": "python",
     "metadata": {},
     "outputs": [
      {
       "output_type": "stream",
       "stream": "stdout",
       "text": [
        "19\n"
       ]
      }
     ],
     "prompt_number": 51
    },
    {
     "cell_type": "code",
     "collapsed": false,
     "input": [
      "print len(meters)"
     ],
     "language": "python",
     "metadata": {},
     "outputs": [
      {
       "output_type": "stream",
       "stream": "stdout",
       "text": [
        "19\n"
       ]
      }
     ],
     "prompt_number": 52
    },
    {
     "cell_type": "code",
     "collapsed": false,
     "input": [
      "set(x) == set(meters.values())"
     ],
     "language": "python",
     "metadata": {},
     "outputs": [
      {
       "output_type": "pyout",
       "prompt_number": 56,
       "text": [
        "True"
       ]
      }
     ],
     "prompt_number": 56
    },
    {
     "cell_type": "code",
     "collapsed": false,
     "input": [
      "print x"
     ],
     "language": "python",
     "metadata": {},
     "outputs": [
      {
       "output_type": "stream",
       "stream": "stdout",
       "text": [
        "['====-=-==-', '==--==--==--==-', '==--=====--===-', '==-=-====-=-==-', '==-=-=--==-=-=-', '=--=-=-==--=-=-=-', '=--==-=-=--==-', '=-=-====-=-===-', '=-===-===-=-', '=-===-===-===-=-', '=-==-=-===-', '=-==--====-', '=-==--==--====-', '--=-=-==--=-=-==-', '-=-=--==-=-=--==-', '-=-=--==-=-===-', '-==-==-==-==-', '-===-===-===-===-', '-===-===-==-']\n"
       ]
      }
     ],
     "prompt_number": 54
    },
    {
     "cell_type": "code",
     "collapsed": false,
     "input": [
      "print meters"
     ],
     "language": "python",
     "metadata": {},
     "outputs": [
      {
       "output_type": "stream",
       "stream": "stdout",
       "text": [
        "{'G7': '-===-===-==-', 'G6': '--=-=-==--=-=-==-', 'G5': '=-==--==--====-', 'G4': '=-=-====-=-===-', 'G3': '==-=-=--==-=-=-', 'G2': '-===-===-===-===-', 'G1': '=-===-===-===-=-', 'G9': '-=-=--==-=-===-', 'G8': '=-==-=-===-', 'G19': '====-=-==-', 'G18': '==--=====--===-', 'G17': '=--==-=-=--==-', 'G16': '-=-=--==-=-=--==-', 'G15': '=--=-=-==--=-=-=-', 'G14': '=-===-===-=-', 'G13': '==--==--==--==-', 'G12': '-==-==-==-==-', 'G11': '=-==--====-', 'G10': '==-=-====-=-==-'}\n"
       ]
      }
     ],
     "prompt_number": 55
    },
    {
     "cell_type": "code",
     "collapsed": false,
     "input": [],
     "language": "python",
     "metadata": {},
     "outputs": []
    }
   ],
   "metadata": {}
  }
 ]
}